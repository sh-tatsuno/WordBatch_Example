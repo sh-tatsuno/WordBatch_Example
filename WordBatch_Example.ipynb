{
 "cells": [
  {
   "cell_type": "markdown",
   "metadata": {},
   "source": [
    "wordbatch example from Toxic Comment Classification Challenge　   \n",
    "https://www.kaggle.com/c/jigsaw-toxic-comment-classification-challenge"
   ]
  },
  {
   "cell_type": "code",
   "execution_count": 1,
   "metadata": {
    "collapsed": true
   },
   "outputs": [],
   "source": [
    "import pandas as pd\n",
    "import numpy as np\n",
    "import os, psutil\n",
    "import matplotlib.pyplot as plt\n",
    "import gc\n",
    "import re\n",
    "import time\n",
    "from scipy.sparse import hstack\n",
    "import threading\n",
    "import wordbatch\n",
    "from wordbatch.extractors import WordBag, WordHash\n",
    "from nltk.corpus import stopwords\n",
    "from wordbatch.models import FTRL\n",
    "from sklearn.metrics import roc_auc_score\n",
    "from sklearn.model_selection import cross_val_score\n",
    "from wordbatch.data_utils import *\n",
    "%matplotlib inline \n",
    "np.random.seed(43)\n",
    "seed=5"
   ]
  },
  {
   "cell_type": "code",
   "execution_count": 2,
   "metadata": {},
   "outputs": [],
   "source": [
    "# read data\n",
    "DIR = \"~/.kaggle/competitions/jigsaw-toxic-comment-classification-challenge/\"\n",
    "train = pd.read_csv(DIR+'train.csv.zip')\n",
    "test = pd.read_csv(DIR+'test.csv.zip')"
   ]
  },
  {
   "cell_type": "code",
   "execution_count": 3,
   "metadata": {},
   "outputs": [
    {
     "data": {
      "text/html": [
       "<div>\n",
       "<style>\n",
       "    .dataframe thead tr:only-child th {\n",
       "        text-align: right;\n",
       "    }\n",
       "\n",
       "    .dataframe thead th {\n",
       "        text-align: left;\n",
       "    }\n",
       "\n",
       "    .dataframe tbody tr th {\n",
       "        vertical-align: top;\n",
       "    }\n",
       "</style>\n",
       "<table border=\"1\" class=\"dataframe\">\n",
       "  <thead>\n",
       "    <tr style=\"text-align: right;\">\n",
       "      <th></th>\n",
       "      <th>id</th>\n",
       "      <th>comment_text</th>\n",
       "      <th>toxic</th>\n",
       "      <th>severe_toxic</th>\n",
       "      <th>obscene</th>\n",
       "      <th>threat</th>\n",
       "      <th>insult</th>\n",
       "      <th>identity_hate</th>\n",
       "    </tr>\n",
       "  </thead>\n",
       "  <tbody>\n",
       "    <tr>\n",
       "      <th>0</th>\n",
       "      <td>0000997932d777bf</td>\n",
       "      <td>Explanation\\nWhy the edits made under my usern...</td>\n",
       "      <td>0</td>\n",
       "      <td>0</td>\n",
       "      <td>0</td>\n",
       "      <td>0</td>\n",
       "      <td>0</td>\n",
       "      <td>0</td>\n",
       "    </tr>\n",
       "    <tr>\n",
       "      <th>1</th>\n",
       "      <td>000103f0d9cfb60f</td>\n",
       "      <td>D'aww! He matches this background colour I'm s...</td>\n",
       "      <td>0</td>\n",
       "      <td>0</td>\n",
       "      <td>0</td>\n",
       "      <td>0</td>\n",
       "      <td>0</td>\n",
       "      <td>0</td>\n",
       "    </tr>\n",
       "    <tr>\n",
       "      <th>2</th>\n",
       "      <td>000113f07ec002fd</td>\n",
       "      <td>Hey man, I'm really not trying to edit war. It...</td>\n",
       "      <td>0</td>\n",
       "      <td>0</td>\n",
       "      <td>0</td>\n",
       "      <td>0</td>\n",
       "      <td>0</td>\n",
       "      <td>0</td>\n",
       "    </tr>\n",
       "    <tr>\n",
       "      <th>3</th>\n",
       "      <td>0001b41b1c6bb37e</td>\n",
       "      <td>\"\\nMore\\nI can't make any real suggestions on ...</td>\n",
       "      <td>0</td>\n",
       "      <td>0</td>\n",
       "      <td>0</td>\n",
       "      <td>0</td>\n",
       "      <td>0</td>\n",
       "      <td>0</td>\n",
       "    </tr>\n",
       "    <tr>\n",
       "      <th>4</th>\n",
       "      <td>0001d958c54c6e35</td>\n",
       "      <td>You, sir, are my hero. Any chance you remember...</td>\n",
       "      <td>0</td>\n",
       "      <td>0</td>\n",
       "      <td>0</td>\n",
       "      <td>0</td>\n",
       "      <td>0</td>\n",
       "      <td>0</td>\n",
       "    </tr>\n",
       "  </tbody>\n",
       "</table>\n",
       "</div>"
      ],
      "text/plain": [
       "                 id                                       comment_text  toxic  \\\n",
       "0  0000997932d777bf  Explanation\\nWhy the edits made under my usern...      0   \n",
       "1  000103f0d9cfb60f  D'aww! He matches this background colour I'm s...      0   \n",
       "2  000113f07ec002fd  Hey man, I'm really not trying to edit war. It...      0   \n",
       "3  0001b41b1c6bb37e  \"\\nMore\\nI can't make any real suggestions on ...      0   \n",
       "4  0001d958c54c6e35  You, sir, are my hero. Any chance you remember...      0   \n",
       "\n",
       "   severe_toxic  obscene  threat  insult  identity_hate  \n",
       "0             0        0       0       0              0  \n",
       "1             0        0       0       0              0  \n",
       "2             0        0       0       0              0  \n",
       "3             0        0       0       0              0  \n",
       "4             0        0       0       0              0  "
      ]
     },
     "execution_count": 3,
     "metadata": {},
     "output_type": "execute_result"
    }
   ],
   "source": [
    "train.head()"
   ]
  },
  {
   "cell_type": "code",
   "execution_count": 4,
   "metadata": {},
   "outputs": [
    {
     "data": {
      "text/html": [
       "<div>\n",
       "<style>\n",
       "    .dataframe thead tr:only-child th {\n",
       "        text-align: right;\n",
       "    }\n",
       "\n",
       "    .dataframe thead th {\n",
       "        text-align: left;\n",
       "    }\n",
       "\n",
       "    .dataframe tbody tr th {\n",
       "        vertical-align: top;\n",
       "    }\n",
       "</style>\n",
       "<table border=\"1\" class=\"dataframe\">\n",
       "  <thead>\n",
       "    <tr style=\"text-align: right;\">\n",
       "      <th></th>\n",
       "      <th>id</th>\n",
       "      <th>comment_text</th>\n",
       "    </tr>\n",
       "  </thead>\n",
       "  <tbody>\n",
       "    <tr>\n",
       "      <th>0</th>\n",
       "      <td>00001cee341fdb12</td>\n",
       "      <td>Yo bitch Ja Rule is more succesful then you'll...</td>\n",
       "    </tr>\n",
       "    <tr>\n",
       "      <th>1</th>\n",
       "      <td>0000247867823ef7</td>\n",
       "      <td>== From RfC == \\n\\n The title is fine as it is...</td>\n",
       "    </tr>\n",
       "    <tr>\n",
       "      <th>2</th>\n",
       "      <td>00013b17ad220c46</td>\n",
       "      <td>\" \\n\\n == Sources == \\n\\n * Zawe Ashton on Lap...</td>\n",
       "    </tr>\n",
       "    <tr>\n",
       "      <th>3</th>\n",
       "      <td>00017563c3f7919a</td>\n",
       "      <td>:If you have a look back at the source, the in...</td>\n",
       "    </tr>\n",
       "    <tr>\n",
       "      <th>4</th>\n",
       "      <td>00017695ad8997eb</td>\n",
       "      <td>I don't anonymously edit articles at all.</td>\n",
       "    </tr>\n",
       "  </tbody>\n",
       "</table>\n",
       "</div>"
      ],
      "text/plain": [
       "                 id                                       comment_text\n",
       "0  00001cee341fdb12  Yo bitch Ja Rule is more succesful then you'll...\n",
       "1  0000247867823ef7  == From RfC == \\n\\n The title is fine as it is...\n",
       "2  00013b17ad220c46  \" \\n\\n == Sources == \\n\\n * Zawe Ashton on Lap...\n",
       "3  00017563c3f7919a  :If you have a look back at the source, the in...\n",
       "4  00017695ad8997eb          I don't anonymously edit articles at all."
      ]
     },
     "execution_count": 4,
     "metadata": {},
     "output_type": "execute_result"
    }
   ],
   "source": [
    "test.head()"
   ]
  },
  {
   "cell_type": "code",
   "execution_count": 5,
   "metadata": {},
   "outputs": [
    {
     "name": "stdout",
     "output_type": "stream",
     "text": [
      "size of train data159571\n",
      "size of test data153164\n"
     ]
    }
   ],
   "source": [
    "print(\"size of train data\" +str(len(train)))\n",
    "print(\"size of test data\" +str(len(test)))"
   ]
  },
  {
   "cell_type": "code",
   "execution_count": 6,
   "metadata": {
    "collapsed": true
   },
   "outputs": [],
   "source": [
    "# labels \n",
    "category = [\"toxic\", \"severe_toxic\", \"obscene\", \"threat\", \"insult\", \"identity_hate\"]\n",
    "ncat = len(category)"
   ]
  },
  {
   "cell_type": "code",
   "execution_count": 7,
   "metadata": {},
   "outputs": [
    {
     "data": {
      "text/plain": [
       "toxic            0.095844\n",
       "severe_toxic     0.009996\n",
       "obscene          0.052948\n",
       "threat           0.002996\n",
       "insult           0.049364\n",
       "identity_hate    0.008805\n",
       "dtype: float64"
      ]
     },
     "execution_count": 7,
     "metadata": {},
     "output_type": "execute_result"
    }
   ],
   "source": [
    "# rate of each label\n",
    "train[category].mean()"
   ]
  },
  {
   "cell_type": "code",
   "execution_count": 8,
   "metadata": {
    "collapsed": true
   },
   "outputs": [],
   "source": [
    "# check the cpu usage\n",
    "def cpuStats():\n",
    "\tpid = os.getpid()\n",
    "\tpy = psutil.Process(pid)\n",
    "\tmemoryUse = py.memory_info()[0] / 2. ** 30\n",
    "\tprint('memory GB:', memoryUse)"
   ]
  },
  {
   "cell_type": "code",
   "execution_count": 9,
   "metadata": {
    "collapsed": true
   },
   "outputs": [],
   "source": [
    "# thread class\n",
    "class ThreadWithReturnValue(threading.Thread):\n",
    "\tdef __init__(self, group=None, target=None, name=None, args=(), kwargs=None, *, daemon=None):\n",
    "\t\tthreading.Thread.__init__(self, group, target, name, args, kwargs, daemon=daemon)\n",
    "\t\tself._return = None\n",
    "\tdef run(self):\n",
    "\t\tif self._target is not None:\n",
    "\t\t\tself._return = self._target(*self._args, **self._kwargs)\n",
    "\tdef join(self):\n",
    "\t\tthreading.Thread.join(self)\n",
    "\t\treturn self._return"
   ]
  },
  {
   "cell_type": "code",
   "execution_count": 10,
   "metadata": {
    "collapsed": true
   },
   "outputs": [],
   "source": [
    "# fit function\n",
    "def fit_batch(clf, X, y):  clf.partial_fit(X, y)\n",
    "\n",
    "# predict\n",
    "def predict_batch(clf, X):  return clf.predict(X)\n",
    "\n",
    "# evaluate log loss score\n",
    "def evaluate_batch(clf, X, y, rcount):\n",
    "\tscore= roc_auc_score(y, predict_batch(clf, X))\n",
    "\tprint(rcount, \"score:\", score) \n",
    "\treturn score"
   ]
  },
  {
   "cell_type": "code",
   "execution_count": 11,
   "metadata": {},
   "outputs": [],
   "source": [
    "# stopword dict for wordbatch\n",
    "stopwords_dict = {x: 1 for x in stopwords.words(\"english\")}\n",
    "non_alphanums = re.compile(u\"[^A-Za-z0-9]+\")\n",
    "def normalize_text(text):\n",
    "    return u\" \".join([x for x in [y for y in non_alphanums.sub(' ', text).lower().strip().split(\" \")] \n",
    "                      if len(x) > 1 and x not in stopwords_dict])"
   ]
  },
  {
   "cell_type": "markdown",
   "metadata": {},
   "source": [
    "## WordHash + FTRL"
   ]
  },
  {
   "cell_type": "code",
   "execution_count": 12,
   "metadata": {
    "collapsed": true
   },
   "outputs": [],
   "source": [
    "# preprocess in dataframe\n",
    "def dfpp(df, test=False):\n",
    "    str_array = df[\"comment_text\"].values\n",
    "    if test != True:\n",
    "        labels = df[category].values\n",
    "    else:\n",
    "        labels = []\n",
    "    return str_array, labels"
   ]
  },
  {
   "cell_type": "code",
   "execution_count": 13,
   "metadata": {},
   "outputs": [],
   "source": [
    "# define wordbatch class\n",
    "D = 2 ** 14\n",
    "batchsize = 50000\n",
    "wb = wordbatch.WordBatch(normalize_text, extractor=(WordHash, {\"ngram_range\": (1, 1), \"analyzer\": \"word\",\n",
    "                                                               \"lowercase\": False, \"n_features\": D,\n",
    "                                                               \"norm\": None, \"binary\": True})\n",
    "                         , minibatch_size=batchsize // 100, procs=8, freeze=True, timeout=1800, verbose=0)"
   ]
  },
  {
   "cell_type": "code",
   "execution_count": 14,
   "metadata": {
    "collapsed": true
   },
   "outputs": [],
   "source": [
    "# df to csr in wordbatch transformation\n",
    "def transform_data(str_array):\n",
    "    word_comment = wb.fit_transform(str_array)\n",
    "    X = word_comment.tocsr()\n",
    "    return X"
   ]
  },
  {
   "cell_type": "code",
   "execution_count": 15,
   "metadata": {},
   "outputs": [
    {
     "name": "stdout",
     "output_type": "stream",
     "text": [
      "memory GB: 0.3484458923339844\n",
      "Training 50000 2.5120646953582764\n",
      "Training 100000 25.310138940811157\n",
      "100000 score: 0.8924493597003443\n",
      "Training 150000 51.07358694076538\n",
      "Training 200000 71.33137583732605\n",
      "200000 score: 0.9152258144665792\n",
      "Training 250000 78.6426727771759\n",
      "Training 300000 102.54003691673279\n",
      "300000 score: 0.8503735373289476\n",
      "Training 350000 128.1520218849182\n",
      "Training 400000 149.2258939743042\n",
      "400000 score: 0.8888212413326568\n",
      "Training 450000 156.68368077278137\n",
      "Training 500000 180.9165198802948\n",
      "500000 score: 0.8923746850407065\n",
      "Training 550000 207.4435956478119\n",
      "Training 600000 227.84057664871216\n",
      "600000 score: 0.9278918186448487\n",
      "Training 650000 235.30824995040894\n",
      "Training 700000 257.3318028450012\n",
      "700000 score: 0.783136621949792\n",
      "Training 750000 282.62903785705566\n",
      "Training 800000 303.8764867782593\n",
      "800000 score: 0.7634978427597425\n",
      "Training 850000 311.0306158065796\n",
      "Training 900000 332.99555683135986\n",
      "900000 score: 0.8750058046326588\n",
      "Training 950000 359.9614179134369\n",
      "Training 1000000 382.08219385147095\n",
      "1000000 score: 0.9126105944912558\n",
      "Training 1050000 392.23887181282043\n",
      "Training 1100000 415.297798871994\n",
      "1100000 score: 0.7530423683652863\n",
      "Training 1150000 442.3620948791504\n",
      "Training 1200000 462.7377827167511\n",
      "1200000 score: 0.8118331176039985\n",
      "memory GB: 0.43572235107421875\n"
     ]
    }
   ],
   "source": [
    "rcount = 0\n",
    "cpuStats()\n",
    "\n",
    "clf = [FTRL(alpha=0.01, beta=0.01, L1=0.0, L2=0.0, D=D, iters=3, \n",
    "            inv_link=\"sigmoid\", e_clip=1.0, threads=4, verbose=0) for _ in range(ncat)] # construct FTRL model in each label\n",
    "start_time = time.time()\n",
    "\n",
    "# training\n",
    "for i in range(ncat):\n",
    "    p = None\n",
    "    for df_c in pd.read_csv(DIR+'train.csv.zip', engine='c', chunksize=batchsize):\n",
    "        rcount += batchsize\n",
    "\n",
    "        # extract text features for wordbatch\n",
    "        str_array, labels= dfpp(df_c)\n",
    "        del(df_c)\n",
    "\n",
    "        if p != None:\n",
    "            p.join() # waiting until finishing calculation\n",
    "            del(X)\n",
    "        gc.collect() # memory release\n",
    "\n",
    "        X = transform_data(str_array) \n",
    "        del(str_array)\n",
    "\n",
    "        # evaluate in each two loops\n",
    "        if rcount % (2 * batchsize) == 0: \n",
    "            if p != None:  p.join()\n",
    "            p = threading.Thread(target=evaluate_batch, args=(clf[i], X, labels[:,i], rcount)) # target: function, args: arguments for target function\n",
    "            p.start() # thread start\n",
    "\n",
    "        # Training iteration\n",
    "        print(\"Training\", rcount, time.time() - start_time)\n",
    "\n",
    "        if p != None:  p.join()\n",
    "        p = threading.Thread(target=fit_batch, args=(clf[i], X, labels[:,i])) # fit\n",
    "        p.start() # thread start\n",
    "    if p != None:  p.join()\n",
    "        \n",
    "cpuStats()\n",
    "del(X)"
   ]
  },
  {
   "cell_type": "code",
   "execution_count": 16,
   "metadata": {},
   "outputs": [
    {
     "name": "stdout",
     "output_type": "stream",
     "text": [
      "500000\n",
      "1000000\n"
     ]
    }
   ],
   "source": [
    "test_preds = [] \n",
    "rcount = 0\n",
    "\n",
    "# test\n",
    "for i in range(ncat):\n",
    "    preds_one_category=[]\n",
    "    p = None\n",
    "    for df_c in pd.read_csv(DIR+'test.csv.zip', engine='c', chunksize=batchsize):\n",
    "        rcount += batchsize\n",
    "        if rcount % (10 * batchsize) == 0:\n",
    "            print(rcount)\n",
    "        str_array, labels = dfpp(df_c, test=True)\n",
    "        del(df_c)\n",
    "        if p != None:\n",
    "            preds_one_category += list(p.join())\n",
    "            del (X)\n",
    "            gc.collect()\n",
    "        X = transform_data(str_array)\n",
    "        del (str_array)\n",
    "        p = ThreadWithReturnValue(target=predict_batch, args=(clf[i], X)) # predict\n",
    "        p.start()\n",
    "    if p != None:  preds_one_category += list(p.join())\n",
    "    test_preds.append(preds_one_category) # add prediction of one category\n",
    "test_preds = np.array(test_preds).T"
   ]
  },
  {
   "cell_type": "code",
   "execution_count": 17,
   "metadata": {},
   "outputs": [
    {
     "data": {
      "image/png": "[encoded data removed]",
      "text/plain": [
       "<Figure size 432x288 with 1 Axes>"
      ]
     },
     "metadata": {},
     "output_type": "display_data"
    }
   ],
   "source": [
    "# predict distribution\n",
    "plt.hist(test_preds,bins=10)\n",
    "plt.show()"
   ]
  },
  {
   "cell_type": "code",
   "execution_count": 18,
   "metadata": {},
   "outputs": [],
   "source": [
    "# save submit model\n",
    "submit=pd.DataFrame(test_preds, columns=category)\n",
    "submit=pd.concat([test[\"id\"], submit],axis=1)\n",
    "submit.to_csv(\"csv/ftrl.csv\",index=None)"
   ]
  },
  {
   "cell_type": "markdown",
   "metadata": {},
   "source": [
    "## WordBag + LogisticRegression"
   ]
  },
  {
   "cell_type": "code",
   "execution_count": 19,
   "metadata": {},
   "outputs": [
    {
     "name": "stdout",
     "output_type": "stream",
     "text": [
      "Normalize text\n",
      "Normalize text\n"
     ]
    }
   ],
   "source": [
    "# merge train + test\n",
    "merge = pd.concat([train.drop([\"id\"] + category, axis = 1), \n",
    "                   test.drop([\"id\"], axis = 1)], axis = 0)\n",
    "merge.fillna(value = \"no comment\", inplace = True)\n",
    "\n",
    "# define word batch\n",
    "wb = wordbatch.WordBatch(normalize_text, \n",
    "                         extractor=(WordBag, {\"hash_ngrams\": 2, \"hash_ngrams_weights\": [1.0, 1.0],\n",
    "                                              \"hash_size\": 2**28, \"norm\": \"l2\", \"tf\": 1.0,\n",
    "                                              \"idf\": None}), procs=8)\n",
    "wb.dictionary_freeze = True\n",
    "word_comment = wb.fit_transform(merge[\"comment_text\"])\n",
    "word_comment = word_comment[:, np.array(np.clip(word_comment.getnnz(axis=0) - 1, 0, 1), dtype = bool)]\n",
    "\n",
    "wb = wordbatch.WordBatch(normalize_text, \n",
    "                         extractor=(WordBag, {\"hash_ngrams\": 1, \"hash_ngrams_weights\": [1.0, 1.0],\n",
    "                                              \"hash_size\": 2**28, \"norm\": \"l2\", \"tf\": 1.0,\n",
    "                                              \"idf\": None}), procs=8)\n",
    "wb.dictionary_freeze = True\n",
    "char_comment = wb.fit_transform(merge[\"comment_text\"])\n",
    "char_comment = char_comment[:, np.array(np.clip(char_comment.getnnz(axis=0) - 10, 0, 1), dtype = bool)]\n",
    "\n",
    "# concat two features\n",
    "comment = hstack((word_comment, char_comment)).tocsr()\n",
    "nrow_train = train.shape[0]\n",
    "X_train = comment[:nrow_train]\n",
    "Y_train = train[category]\n",
    "X_test = comment[nrow_train:]"
   ]
  },
  {
   "cell_type": "code",
   "execution_count": 20,
   "metadata": {},
   "outputs": [
    {
     "name": "stdout",
     "output_type": "stream",
     "text": [
      "[[0.04023237 0.04089114 0.04077834]\n",
      " [0.00943769 0.00970089 0.00949444]\n",
      " [0.0214322  0.02077458 0.02054898]\n",
      " [0.00278243 0.00293288 0.00248167]\n",
      " [0.02885827 0.02861386 0.02825772]\n",
      " [0.00774567 0.00772702 0.00782102]]\n"
     ]
    }
   ],
   "source": [
    "from sklearn.linear_model import LogisticRegression\n",
    "from sklearn.model_selection import cross_val_score\n",
    "\n",
    "lr_model = LogisticRegression(C = 4, solver = \"sag\", max_iter = 100, random_state = seed)\n",
    "cv_result = np.zeros((6, 3))\n",
    "for i in range(ncat):\n",
    "    cv_result[i, :] = -cross_val_score(lr_model, X_train, Y_train[category[i]], scoring = \"neg_mean_squared_error\")\n",
    "print(cv_result)"
   ]
  },
  {
   "cell_type": "code",
   "execution_count": 21,
   "metadata": {
    "collapsed": true
   },
   "outputs": [],
   "source": [
    "lr_prediction = np.zeros((test.shape[0], ncat))\n",
    "for i in range(ncat):\n",
    "    model = lr_model.fit(X_train, Y_train[category[i]])\n",
    "    lr_prediction[:, i] = model.predict_proba(X_test)[:, 1]"
   ]
  },
  {
   "cell_type": "code",
   "execution_count": 22,
   "metadata": {
    "scrolled": true
   },
   "outputs": [
    {
     "data": {
      "image/png": "[encoded data removed]",
      "text/plain": [
       "<Figure size 432x288 with 1 Axes>"
      ]
     },
     "metadata": {},
     "output_type": "display_data"
    }
   ],
   "source": [
    "plt.hist(lr_prediction, bins=10)\n",
    "plt.show()"
   ]
  },
  {
   "cell_type": "code",
   "execution_count": 23,
   "metadata": {},
   "outputs": [],
   "source": [
    "submit=pd.DataFrame(lr_prediction, columns=category)\n",
    "submit=pd.concat([test[\"id\"], submit],axis=1)\n",
    "submit.to_csv(\"csv/lr.csv\",index=None)"
   ]
  }
 ],
 "metadata": {
  "kernelspec": {
   "display_name": "Python 3",
   "language": "python",
   "name": "python3"
  },
  "language_info": {
   "codemirror_mode": {
    "name": "ipython",
    "version": 3
   },
   "file_extension": ".py",
   "mimetype": "text/x-python",
   "name": "python",
   "nbconvert_exporter": "python",
   "pygments_lexer": "ipython3",
   "version": "3.6.1"
  }
 },
 "nbformat": 4,
 "nbformat_minor": 2
}
